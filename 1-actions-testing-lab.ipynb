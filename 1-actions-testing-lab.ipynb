{
  "cells": [
    {
      "cell_type": "markdown",
      "metadata": {
        "id": "view-in-github",
        "colab_type": "text"
      },
      "source": [
        "<a href=\"https://colab.research.google.com/github/DCharles01/Jigsaw-Colabs/blob/main/1-actions-testing-lab.ipynb\" target=\"_parent\"><img src=\"https://colab.research.google.com/assets/colab-badge.svg\" alt=\"Open In Colab\"/></a>"
      ]
    },
    {
      "cell_type": "markdown",
      "metadata": {
        "id": "UqcYA8Wv02vw"
      },
      "source": [
        "# Github Actions Testing Lab"
      ]
    },
    {
      "cell_type": "markdown",
      "metadata": {
        "id": "OGKzJ3Wl02vy"
      },
      "source": [
        "### Introduction"
      ]
    },
    {
      "cell_type": "markdown",
      "metadata": {
        "id": "7JUS1HXX02vy"
      },
      "source": [
        "In the last lesson, we were introduced to github actions.  As we saw, we can use github actions to kick off one or more jobs after an event occurs, like a push to a branch on github.  In this lesson, we'll see how to use github actions to automatically run tests upon a push to a branch in github."
      ]
    },
    {
      "cell_type": "markdown",
      "metadata": {
        "id": "BxHsTHTQ02vy"
      },
      "source": [
        "### Setting up our Codebase"
      ]
    },
    {
      "cell_type": "markdown",
      "metadata": {
        "id": "m-HR-FJ002vy"
      },
      "source": [
        "Let's get started by setting up a codebase that both has a script has a script that both defines some functions and a script that then tests those functions.  Let's get started.\n",
        "\n",
        "Begin by creating a file called `app.py` has a single function."
      ]
    },
    {
      "cell_type": "markdown",
      "metadata": {
        "id": "atEZhTs702vz"
      },
      "source": [
        "```python\n",
        "# app.py\n",
        "def adds_one(number):\n",
        "    return number +1\n",
        "```"
      ]
    },
    {
      "cell_type": "markdown",
      "metadata": {
        "id": "S2IHWZhO02vz"
      },
      "source": [
        "And then we can create a file called `test_app.py` and test the function."
      ]
    },
    {
      "cell_type": "markdown",
      "metadata": {
        "id": "uDOrGicW02vz"
      },
      "source": [
        "```python\n",
        "# test_app.py\n",
        "from app import adds_one\n",
        "def test_adds_one():\n",
        "    assert adds_one(1) == 2\n",
        "```"
      ]
    },
    {
      "cell_type": "markdown",
      "metadata": {
        "id": "OtaBPcrP02vz"
      },
      "source": [
        "And running pytest we can see that this works."
      ]
    },
    {
      "cell_type": "markdown",
      "metadata": {
        "id": "nolqwIR-02vz"
      },
      "source": [
        "<img src=\"https://github.com/jigsawlabs-student/intro-to-actions-lessons/blob/main/testing-code.png?raw=1\" width=\"90%\">"
      ]
    },
    {
      "cell_type": "markdown",
      "metadata": {
        "id": "xVZlpFmf02vz"
      },
      "source": [
        "### Continuous Integration on Github"
      ]
    },
    {
      "cell_type": "markdown",
      "metadata": {
        "id": "CmWbW1ti02vz"
      },
      "source": [
        "Now let's see if we can use github actions so that tests automatically run on a github machine whenever we make push to our main branch.  Let's get started.  Inside our new folder, we can create a repository by running `git init`.  Then, we can create a `.github/workflows` folder and add a `main.yml` file inside of it to create a workflow."
      ]
    },
    {
      "cell_type": "markdown",
      "metadata": {
        "id": "fbUZI7EL02vz"
      },
      "source": [
        "In the `main.yml` file, build a workflow with the following specifications:"
      ]
    },
    {
      "cell_type": "markdown",
      "metadata": {
        "id": "S9CDOMc902v0"
      },
      "source": [
        "* The `name` should be \"continuous integration\"\n",
        "* On a push to any branch, we want to run our jobs.  You can specify any branch with `'**'` instead of `main`\n",
        "* Then specify the `jobs`\n",
        "* The name of the first job should `test_codebase`\n",
        "\n",
        "\n",
        "And for that job, you'll need to specify:\n",
        "\n",
        "* The environment is `ubuntu-latest`\n",
        "* And that there are steps of:\n",
        "    * checking out our codebase\n",
        "    * Running pytest\n"
      ]
    },
    {
      "cell_type": "markdown",
      "metadata": {
        "id": "TLo6337C02v0"
      },
      "source": [
        "Ok, now try it out.  \n",
        "\n",
        "Make a commit.  Create a repository on github, and push your code."
      ]
    },
    {
      "cell_type": "markdown",
      "metadata": {
        "id": "6Hcs3GIK02v0"
      },
      "source": [
        "### Trying it out"
      ]
    },
    {
      "cell_type": "markdown",
      "metadata": {
        "id": "cEQHvn8L02v0"
      },
      "source": [
        "After pushing up our code, we may see something like the following."
      ]
    },
    {
      "cell_type": "markdown",
      "metadata": {
        "id": "6B3t0unZ02v0"
      },
      "source": [
        "<img src=\"https://github.com/jigsawlabs-student/intro-to-actions-lessons/blob/main/build-pytest-fail.png?raw=1\" width=\"80%\">"
      ]
    },
    {
      "cell_type": "markdown",
      "metadata": {
        "id": "2P-Mgx7R02v0"
      },
      "source": [
        "The error says that `pytest: command not found`."
      ]
    },
    {
      "cell_type": "markdown",
      "metadata": {
        "id": "Adr-yrSl02v0"
      },
      "source": [
        "This makes sense.  Remember that our github action runs on the computer with ubuntu software on it, but it does not necessarily have pytest, or even Python installed.  So to get our tests working we should create a `requirements.txt` file that will allow us to easily install pytest."
      ]
    },
    {
      "cell_type": "markdown",
      "metadata": {
        "id": "78ntCaya02v0"
      },
      "source": [
        "```python\n",
        "# requirements.txt\n",
        "pytest\n",
        "```"
      ]
    },
    {
      "cell_type": "markdown",
      "metadata": {
        "id": "AS-E25B902v0"
      },
      "source": [
        "So now update the `main.yml` file so that after checking out the codebase, it:\n",
        "* installs pip: `python3 -m pip install --upgrade pip`\n",
        "* installs the packages in our requirements.txt file\n",
        "* *And then* runs the tests"
      ]
    },
    {
      "cell_type": "markdown",
      "metadata": {
        "id": "0Y_s82VQ02v0"
      },
      "source": [
        "If we push our changes to the `main` branch on github, we see that each of these steps are completed.  And clicking on the `run tests` step, we see that pytest is run successfully."
      ]
    },
    {
      "cell_type": "markdown",
      "metadata": {
        "id": "ILDwXNUy02v0"
      },
      "source": [
        "<img src=\"https://github.com/jigsawlabs-student/intro-to-actions-lessons/blob/main/passing-tests.png?raw=1\" width=\"60%\">"
      ]
    },
    {
      "cell_type": "markdown",
      "metadata": {
        "id": "N8QI9BM502v0"
      },
      "source": [
        "Finally, if we want to ensure we are using the correct python version in our ubuntu machine, we can add the following step after our `actions/checkout` step.\n",
        "```yaml\n",
        "- name: Set up Python\n",
        "    uses: actions/setup-python@v1\n",
        "    with:\n",
        "      python-version: 3.10.14\n",
        "```"
      ]
    },
    {
      "cell_type": "markdown",
      "metadata": {
        "id": "MOZ583XQ02v0"
      },
      "source": [
        "### Resources\n",
        "\n",
        "[Protected Branches](https://www.freecodecamp.org/news/what-are-github-actions-and-how-can-you-automate-tests-and-slack-notifications/#part-1-automating-tests)"
      ]
    }
  ],
  "metadata": {
    "kernelspec": {
      "display_name": "Python 3 (ipykernel)",
      "language": "python",
      "name": "python3"
    },
    "language_info": {
      "codemirror_mode": {
        "name": "ipython",
        "version": 3
      },
      "file_extension": ".py",
      "mimetype": "text/x-python",
      "name": "python",
      "nbconvert_exporter": "python",
      "pygments_lexer": "ipython3",
      "version": "3.10.14"
    },
    "colab": {
      "provenance": [],
      "include_colab_link": true
    }
  },
  "nbformat": 4,
  "nbformat_minor": 0
}