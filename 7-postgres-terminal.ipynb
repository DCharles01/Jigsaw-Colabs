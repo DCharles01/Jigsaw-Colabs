{
  "cells": [
    {
      "cell_type": "markdown",
      "metadata": {
        "id": "view-in-github",
        "colab_type": "text"
      },
      "source": [
        "<a href=\"https://colab.research.google.com/github/DCharles01/Jigsaw-Colabs/blob/main/7-postgres-terminal.ipynb\" target=\"_parent\"><img src=\"https://colab.research.google.com/assets/colab-badge.svg\" alt=\"Open In Colab\"/></a>"
      ]
    },
    {
      "cell_type": "markdown",
      "metadata": {
        "id": "jzPx03SMwFJO"
      },
      "source": [
        "# Postgres Terminal"
      ]
    },
    {
      "cell_type": "markdown",
      "metadata": {
        "id": "B6EyasoEwFJT"
      },
      "source": [
        "### Introduction"
      ]
    },
    {
      "cell_type": "markdown",
      "metadata": {
        "id": "OnIvmYygwFJT"
      },
      "source": [
        "In this lesson, we'll learn more about which postgres commands and options we have access to before we even get into the psql shell."
      ]
    },
    {
      "cell_type": "markdown",
      "metadata": {
        "id": "jK_AIyIswFJV"
      },
      "source": [
        "### Executing Postgres Commands Through Files"
      ]
    },
    {
      "cell_type": "markdown",
      "metadata": {
        "id": "aXH4o4fZwFJV"
      },
      "source": [
        "To begin, let's see the list of postgres commands available from the terminal in general:\n",
        "\n",
        "`psql --help`"
      ]
    },
    {
      "cell_type": "markdown",
      "metadata": {
        "id": "eNelTpkZwFJW"
      },
      "source": [
        "<img src=\"https://github.com/sql-fundamentals-jigsaw/postgres-curriculum/blob/master/psql-terminal-help.png?raw=1\">"
      ]
    },
    {
      "cell_type": "markdown",
      "metadata": {
        "id": "8s00z1lLwFJX"
      },
      "source": [
        "Now, let's say that we want connect to the postgres shell directly as a user.  We can see under `Usage:` above, that the format is `psql dbname username`.  We can also specify the user with the -U flag.  \n",
        "\n",
        "Let's give it a shot."
      ]
    },
    {
      "cell_type": "markdown",
      "metadata": {
        "id": "H5m9OIvcwFJZ"
      },
      "source": [
        "`psql practice -U postgres`"
      ]
    },
    {
      "cell_type": "markdown",
      "metadata": {
        "id": "cr9HJoGUwFJf"
      },
      "source": [
        "> So above, we login to the practice database as the postgres user."
      ]
    },
    {
      "cell_type": "markdown",
      "metadata": {
        "id": "gsvFLAxFwFJf"
      },
      "source": [
        "In addition, we can also use the `-d` flag to specify that we are referring to the database."
      ]
    },
    {
      "cell_type": "markdown",
      "metadata": {
        "id": "17V4HKMAwFJg"
      },
      "source": [
        "`psql -U postgres -d practice`"
      ]
    },
    {
      "cell_type": "markdown",
      "metadata": {
        "id": "SRuBXyGfwFJg"
      },
      "source": [
        "> Notice that where we specify a flag for each argument, the order of the arguments does not matter."
      ]
    },
    {
      "cell_type": "markdown",
      "metadata": {
        "id": "YyCb0vxMwFJg"
      },
      "source": [
        "### Executing Files From the Terminal"
      ]
    },
    {
      "cell_type": "markdown",
      "metadata": {
        "id": "_-Kr83HAwFJg"
      },
      "source": [
        "Now let's see how to execute one of our `.sql` files from the bash terminal.  For example, if we have a file named `create_orders.sql`, we can execute that file with the following:"
      ]
    },
    {
      "cell_type": "markdown",
      "metadata": {
        "id": "LP6djQkMwFJg"
      },
      "source": [
        "> `psql practice -U postgres -f create_orders.sql`"
      ]
    },
    {
      "cell_type": "markdown",
      "metadata": {
        "id": "DpTFtxL3wFJh"
      },
      "source": [
        "So we specify that on the `practice` db, as the `postgres` user, to execute a the `create_order.sql`file."
      ]
    },
    {
      "cell_type": "markdown",
      "metadata": {
        "id": "O5Al5kcmwFJh"
      },
      "source": [
        "And if we wish to display the contents of the sql file as we perform the execution, we can use the `-a` command."
      ]
    },
    {
      "cell_type": "markdown",
      "metadata": {
        "id": "vNJ0KCHzwFJh"
      },
      "source": [
        "`psql -a -d practice -U postgres -f  create_orders.sql`\n",
        "\n",
        "`CREATE TABLE IF NOT EXISTS orders (\n",
        "  id serial PRIMARY KEY,\n",
        "  user_id INT,\n",
        "  FOREIGN KEY (user_id)\n",
        "      REFERENCES users (user_id)\n",
        ")`"
      ]
    },
    {
      "cell_type": "markdown",
      "metadata": {
        "id": "DeIq21xTwFJh"
      },
      "source": [
        "So above, by providing the `-a` flag, we return the contents of the file."
      ]
    },
    {
      "cell_type": "markdown",
      "metadata": {
        "id": "aSofpPe1wFJh"
      },
      "source": [
        "### Issuing Commands"
      ]
    },
    {
      "cell_type": "markdown",
      "metadata": {
        "id": "PCgyxYM3wFJh"
      },
      "source": [
        "Now we can also call a user command without logging into the shell with the `-c` flag.  Here's an example."
      ]
    },
    {
      "cell_type": "markdown",
      "metadata": {
        "id": "TT4Mk_5xwFJh"
      },
      "source": [
        "```SQL\n",
        "psql -d practice -U postgres -c \"SELECT * FROM users;\"`\n",
        "\n",
        " user_id\n",
        "---------\n",
        "(0 rows)\n",
        "```"
      ]
    },
    {
      "cell_type": "markdown",
      "metadata": {
        "id": "bSmt-MOkwFJi"
      },
      "source": [
        "And this will work with any SQL commmand.  For example, here we'll list all of the tables in our practice database."
      ]
    },
    {
      "cell_type": "markdown",
      "metadata": {
        "id": "eHCXqcgMwFJi"
      },
      "source": [
        "`psql -a -d practice -U postgres -c \"\\dt\"`"
      ]
    },
    {
      "cell_type": "markdown",
      "metadata": {
        "id": "0rawCh1mwFJi"
      },
      "source": [
        "```\n",
        "List of relations\n",
        " Schema |  Name  | Type  |  Owner\n",
        "--------+--------+-------+----------\n",
        " public | orders | table | postgres\n",
        " public | users  | table | postgres\n",
        "(2 rows)\n",
        "```"
      ]
    },
    {
      "cell_type": "markdown",
      "metadata": {
        "id": "Qfxc0xSkwFJi"
      },
      "source": [
        "Finally, let's say that we want to execute a command without postgres then asking us for the password.  Well we can avoid this by specifying the postgres password as we execute the command.  Here, before we state the postgres statement, we first specify the password with `PGPASSWORD=`."
      ]
    },
    {
      "cell_type": "markdown",
      "metadata": {
        "id": "2Wc07DzdwFJi"
      },
      "source": [
        "`PGPASSWORD=postgres psql -U postgres -d practice -c \"\\dt\"`"
      ]
    },
    {
      "cell_type": "markdown",
      "metadata": {
        "id": "evYDIHbgwFJi"
      },
      "source": [
        "```\n",
        "List of relations\n",
        " Schema |  Name  | Type  |  Owner\n",
        "--------+--------+-------+----------\n",
        " public | orders | table | postgres\n",
        " public | users  | table | postgres\n",
        "(2 rows)\n",
        "```"
      ]
    },
    {
      "cell_type": "markdown",
      "metadata": {
        "id": "QI-69E4hwFJj"
      },
      "source": [
        "And thus we login as the postgres user, and see the list of tables on the postgres database in one fell swoop."
      ]
    },
    {
      "cell_type": "markdown",
      "metadata": {
        "id": "zsr1aLH_wFJj"
      },
      "source": [
        "### Summary"
      ]
    },
    {
      "cell_type": "markdown",
      "metadata": {
        "id": "2juo63bswFJj"
      },
      "source": [
        "In this lesson, we saw how to issue postgres commands from the terminal.  For example, we saw how to issue a specific command from the terminal while simultaneously providing a password with something like:"
      ]
    },
    {
      "cell_type": "markdown",
      "metadata": {
        "id": "G-vUUl4awFJj"
      },
      "source": [
        "`PGPASSWORD=postgres psql -U postgres -d practice -c \"\\dt\"`"
      ]
    },
    {
      "cell_type": "markdown",
      "metadata": {
        "id": "K_v2IAXYwFJj"
      },
      "source": [
        "And we saw how issue a command from a file and display the command in the file with:\n",
        "\n",
        "`psql -a -d practice -U postgres -f  create_orders.sql`"
      ]
    },
    {
      "cell_type": "markdown",
      "metadata": {
        "id": "XOm44Z9RwFJj"
      },
      "source": [
        "### Resources\n",
        "\n",
        "[Postgres Files Object Rocket](https://kb.objectrocket.com/postgresql/how-to-run-an-sql-file-in-postgres-846)\n",
        "\n",
        "[PG exercises](https://pgexercises.com/)\n"
      ]
    },
    {
      "cell_type": "code",
      "execution_count": null,
      "metadata": {
        "id": "Z7VbkfwrwFJk"
      },
      "outputs": [],
      "source": []
    }
  ],
  "metadata": {
    "kernelspec": {
      "display_name": "Python 3",
      "language": "python",
      "name": "python3"
    },
    "language_info": {
      "codemirror_mode": {
        "name": "ipython",
        "version": 3
      },
      "file_extension": ".py",
      "mimetype": "text/x-python",
      "name": "python",
      "nbconvert_exporter": "python",
      "pygments_lexer": "ipython3",
      "version": "3.8.3"
    },
    "colab": {
      "provenance": [],
      "include_colab_link": true
    }
  },
  "nbformat": 4,
  "nbformat_minor": 0
}