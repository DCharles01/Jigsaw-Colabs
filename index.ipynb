{
  "cells": [
    {
      "cell_type": "markdown",
      "metadata": {
        "id": "view-in-github",
        "colab_type": "text"
      },
      "source": [
        "<a href=\"https://colab.research.google.com/github/DCharles01/Jigsaw-Colabs/blob/main/index.ipynb\" target=\"_parent\"><img src=\"https://colab.research.google.com/assets/colab-badge.svg\" alt=\"Open In Colab\"/></a>"
      ]
    },
    {
      "cell_type": "markdown",
      "metadata": {
        "id": "ImgKJOYx5J9C"
      },
      "source": [
        "# Try Saving Records with Objects"
      ]
    },
    {
      "cell_type": "markdown",
      "metadata": {
        "id": "1BaWX2_Z5J9G"
      },
      "source": [
        "### Introduction\n",
        "\n",
        "As we may have noticed, certain SQL operations are a little tedious and tricky to perform.  For example, creating a new record in a database requires an INSERT INTO statement that is not so easy to get quite right.  Let's make it easier.  \n",
        "\n",
        "In this lesson, we'll try to write operations for saving our records."
      ]
    },
    {
      "cell_type": "markdown",
      "metadata": {
        "id": "1bZMGRt45J9H"
      },
      "source": [
        "### Saving Made Easier"
      ]
    },
    {
      "cell_type": "markdown",
      "metadata": {
        "id": "y50-tGu15J9I"
      },
      "source": [
        "Instead of writing a separate INSERT INTO statement for each table, we'll write a `save` function that will allow us to create an instance of a class, and then automatically store a new record with the correct attributes in the new table.  For example, if we create an instance of User with the following attributes:"
      ]
    },
    {
      "cell_type": "markdown",
      "metadata": {
        "id": "v_Ay2b-o5J9K"
      },
      "source": [
        "```python\n",
        "user = User()\n",
        "user.name = 'bob'\n",
        "user.birthday = '8/3/1997'\n",
        "```"
      ]
    },
    {
      "cell_type": "markdown",
      "metadata": {
        "id": "sxTmssNP5J9M"
      },
      "source": [
        "Then, ideally, we could just call the function `save` like so:\n",
        "    \n",
        "```python\n",
        "save(user, test_conn, test_cursor)\n",
        "```"
      ]
    },
    {
      "cell_type": "markdown",
      "metadata": {
        "id": "4Zh1OCNl5J9M"
      },
      "source": [
        "And save will execute the following command."
      ]
    },
    {
      "cell_type": "markdown",
      "metadata": {
        "id": "wbG6JcA45J9N"
      },
      "source": [
        "```python\n",
        "insert_str = f\"\"\"INSERT INTO users (name, birthday) VALUES (%s, %s);\"\"\"\n",
        "cursor.execute(insert_str, ('bob', '8/3/1997'))\n",
        "```"
      ]
    },
    {
      "cell_type": "markdown",
      "metadata": {
        "id": "WtX0mUjO5J9N"
      },
      "source": [
        "### Getting it to work"
      ]
    },
    {
      "cell_type": "markdown",
      "metadata": {
        "id": "2zqvbo1D5J9O"
      },
      "source": [
        "The key to automating this is to realize that every time we save a user instance, we are always inserting into the same table, and we want the attributes of the user instance, to be stored in a respective column in the database.  So we begin by telling each instance of user class about it's table, and the columns in the database with the following:"
      ]
    },
    {
      "cell_type": "code",
      "execution_count": null,
      "metadata": {
        "id": "Dta_dxXW5J9P"
      },
      "outputs": [],
      "source": [
        "class User():\n",
        "    __table__ = 'users'\n",
        "    columns = ['id', 'name', 'birthday']"
      ]
    },
    {
      "cell_type": "code",
      "execution_count": null,
      "metadata": {
        "id": "ruJjv2I25J9R"
      },
      "outputs": [],
      "source": [
        "user = User()\n",
        "user.name = 'bob'\n",
        "user.birthday = '3/5/1997'"
      ]
    },
    {
      "cell_type": "markdown",
      "metadata": {
        "id": "lzxSL-DK5J9S"
      },
      "source": [
        "Now try to write a save function that reconstructs the insert into statement with information from the object.  "
      ]
    },
    {
      "cell_type": "markdown",
      "metadata": {
        "id": "NKfhh3mi5J9S"
      },
      "source": [
        "For example, we'll get you started."
      ]
    },
    {
      "cell_type": "code",
      "execution_count": null,
      "metadata": {
        "id": "KQAwCqbf5J9T"
      },
      "outputs": [],
      "source": [
        "import psycopg2\n",
        "conn = psycopg2.connect(dbname = 'crm_db')\n",
        "\n",
        "def save(obj):\n",
        "    cursor = conn.cursor()\n",
        "    # values = ','.join(len(obj.__dict__.values()) * ['%s'])\n",
        "    insert_str = f\"\"\"INSERT INTO {obj.__table__} (name, birthday) VALUES (%s, %s);\"\"\"\n",
        "    cursor.execute(insert_str, ('bob', '8/3/1997'))\n",
        "    cursor.commit()"
      ]
    },
    {
      "cell_type": "markdown",
      "metadata": {
        "id": "YMUQ1hc25J9U"
      },
      "source": [
        "So notice that we no longer, use the hardcoded name `users` but replace it with the objects table.  This allows us to insert into a different table when say we save a venue object, which we would want to insert into the venues table."
      ]
    },
    {
      "cell_type": "markdown",
      "metadata": {
        "id": "3W75mKoz5J9U"
      },
      "source": [
        "Now update the `save` function to:\n",
        "1. Remove the hardcoding of the `%s` values -- these will need to change based on the number of columns\n",
        "2. Reference the name and birthday columns, and\n",
        "3. The tuple of values."
      ]
    },
    {
      "cell_type": "markdown",
      "metadata": {
        "id": "KwX8Vno_5J9U"
      },
      "source": [
        "To get set up with the database, create a database in postgres called `crm_db`.\n",
        "\n",
        "Then from the terminal you can `create_tables.sql` file against the database:\n",
        "\n",
        "```bash\n",
        "psql -d crm_db -f create_users.sql\n",
        "```\n",
        "\n",
        "Open up the console.py file.  You can work with the data in the console.py file."
      ]
    }
  ],
  "metadata": {
    "kernelspec": {
      "display_name": "Python 3.8.9 64-bit",
      "language": "python",
      "name": "python3"
    },
    "language_info": {
      "codemirror_mode": {
        "name": "ipython",
        "version": 3
      },
      "file_extension": ".py",
      "mimetype": "text/x-python",
      "name": "python",
      "nbconvert_exporter": "python",
      "pygments_lexer": "ipython3",
      "version": "3.8.9"
    },
    "vscode": {
      "interpreter": {
        "hash": "31f2aee4e71d21fbe5cf8b01ff0e069b9275f58929596ceb00d14d90e3e16cd6"
      }
    },
    "colab": {
      "provenance": [],
      "include_colab_link": true
    }
  },
  "nbformat": 4,
  "nbformat_minor": 0
}