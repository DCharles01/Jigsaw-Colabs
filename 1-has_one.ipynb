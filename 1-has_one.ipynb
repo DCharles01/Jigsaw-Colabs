{
  "cells": [
    {
      "cell_type": "markdown",
      "metadata": {
        "id": "view-in-github",
        "colab_type": "text"
      },
      "source": [
        "<a href=\"https://colab.research.google.com/github/DCharles01/Jigsaw-Colabs/blob/main/1-has_one.ipynb\" target=\"_parent\"><img src=\"https://colab.research.google.com/assets/colab-badge.svg\" alt=\"Open In Colab\"/></a>"
      ]
    },
    {
      "cell_type": "markdown",
      "metadata": {
        "id": "l5N27Sgl8Zws"
      },
      "source": [
        "# ORM Has One Reading"
      ]
    },
    {
      "cell_type": "markdown",
      "metadata": {
        "id": "dBg00O6U8Zw2"
      },
      "source": [
        "### Introduction"
      ]
    },
    {
      "cell_type": "markdown",
      "metadata": {
        "id": "27KT9FLV8Zw3"
      },
      "source": [
        "In this lesson, we'll begin adding relationship methods to our class.  Remember that in a relational database, we think of our records as being connected.  For example, if we are keeping track of the orders of a customer, we think of how a customer `has_many` orders, and an order `hasone` customer.  So far we have written queries directly in SQL to return the associated records.  In this lesson, we'll add functions to our classes that execute these SQL queries for us.   "
      ]
    },
    {
      "cell_type": "markdown",
      "metadata": {
        "id": "o0_BCMQy8Zw5"
      },
      "source": [
        "### Sending Messages to Instances"
      ]
    },
    {
      "cell_type": "markdown",
      "metadata": {
        "id": "wNS-Rmz18Zw7"
      },
      "source": [
        "Let's again work with Moe's bar.  We can begin by loading the data from our database.  And let's take a look at the tables."
      ]
    },
    {
      "cell_type": "code",
      "execution_count": null,
      "metadata": {
        "id": "-srf50uD8Zw_",
        "outputId": "0dbb8cb2-1e81-4012-b7f2-1811a96501c4"
      },
      "outputs": [
        {
          "data": {
            "text/plain": [
              "[('bartenders',),\n",
              " ('customers',),\n",
              " ('drinks',),\n",
              " ('orders',),\n",
              " ('ingredients',),\n",
              " ('ingredients_drinks',)]"
            ]
          },
          "execution_count": 1,
          "metadata": {},
          "output_type": "execute_result"
        }
      ],
      "source": [
        "import sqlite3\n",
        "conn = sqlite3.connect('./moes_bar.db')\n",
        "cursor = conn.cursor()\n",
        "\n",
        "import pandas as pd\n",
        "root_url = \"https://raw.githubusercontent.com/jigsawlabs-student/curriculum-images/main/has-many-through-bar/data/\"\n",
        "names = ['bartenders', 'customers', 'drinks', 'orders', 'ingredients', 'ingredients_drinks']\n",
        "loaded_dfs = [pd.read_csv(f'{root_url}{name}.csv') for name in names]\n",
        "for index, name in enumerate(names):\n",
        "    loaded_dfs[index].to_sql(f'{name}', conn, index = False, if_exists = 'replace')\n",
        "cursor.execute(\"SELECT name FROM sqlite_master WHERE type='table';\")\n",
        "cursor.fetchall()"
      ]
    },
    {
      "cell_type": "markdown",
      "metadata": {
        "id": "2urf549h8ZxG"
      },
      "source": [
        "Now as we know, with our relational database, we can perform interesting queries, like see all of the orders of a customer and the customer associated with an order."
      ]
    },
    {
      "cell_type": "markdown",
      "metadata": {
        "id": "ZQcrmBCt8Zyi"
      },
      "source": [
        "### Has one queries"
      ]
    },
    {
      "cell_type": "markdown",
      "metadata": {
        "id": "ZbtfgawN8Zy5"
      },
      "source": [
        "We can start with our `has_one` relationship.  For example, we would say that an order `has_one` customer.  After all, there is a foreign_key of `customer_id` on our `orders` table."
      ]
    },
    {
      "cell_type": "code",
      "execution_count": null,
      "metadata": {
        "id": "U507BzMB8ZzR"
      },
      "outputs": [],
      "source": [
        "class Order:\n",
        "    __table__ = 'orders'\n",
        "    columns = ['id', 'customer_id', 'drink_id', 'bartender_id']\n",
        "\n",
        "class Customer:\n",
        "    __table__ = 'customers'\n",
        "    columns = ['id', 'name', 'hometown']\n",
        "\n",
        "\n",
        "def build_from_record(Class, record):\n",
        "    if not record: return None\n",
        "    attr = dict(zip(Class.columns, record))\n",
        "    obj = Class()\n",
        "    obj.__dict__ = attr\n",
        "    return obj"
      ]
    },
    {
      "cell_type": "markdown",
      "metadata": {
        "id": "2C5PCYk18ZzU"
      },
      "source": [
        "So if we say get an order frmo our database..."
      ]
    },
    {
      "cell_type": "code",
      "execution_count": null,
      "metadata": {
        "id": "aL8Q71tW8ZzW",
        "outputId": "693f6eb9-d4ac-46c0-90bc-849fd06c249c"
      },
      "outputs": [
        {
          "data": {
            "text/plain": [
              "{'id': 9, 'customer_id': 3, 'drink_id': 4, 'bartender_id': 3}"
            ]
          },
          "execution_count": 22,
          "metadata": {},
          "output_type": "execute_result"
        }
      ],
      "source": [
        "cursor.execute('SELECT * FROM orders ORDER BY id DESC LIMIT 1;')\n",
        "last_order_record = cursor.fetchone()\n",
        "\n",
        "last_order = build_from_record(Order, last_order_record)\n",
        "\n",
        "last_order.__dict__"
      ]
    },
    {
      "cell_type": "markdown",
      "metadata": {
        "id": "jN_ADkPR8ZzW"
      },
      "source": [
        "And then want to write a function to return the associated customer, this looks like the following."
      ]
    },
    {
      "cell_type": "code",
      "execution_count": null,
      "metadata": {
        "id": "ORA07uOy8ZzX"
      },
      "outputs": [],
      "source": [
        "def customer_of_order(order):\n",
        "    cursor.execute('SELECT * FROM customers WHERE id = ?', (order.customer_id,))\n",
        "    customer_record = cursor.fetchone()\n",
        "    return build_from_record(Customer, customer_record)"
      ]
    },
    {
      "cell_type": "code",
      "execution_count": null,
      "metadata": {
        "id": "VUQC0tkc8ZzY",
        "outputId": "578e3530-0107-46a9-9829-ff2486053431"
      },
      "outputs": [
        {
          "data": {
            "text/plain": [
              "{'id': 3, 'name': 'lisa simpson', 'price': 'philly'}"
            ]
          },
          "execution_count": 28,
          "metadata": {},
          "output_type": "execute_result"
        }
      ],
      "source": [
        "customer = customer_of_order(order)\n",
        "customer.__dict__"
      ]
    },
    {
      "cell_type": "markdown",
      "metadata": {
        "id": "pUjyVPAp8ZzZ"
      },
      "source": [
        "Now instead of calling our `customer_of_order` function, it would be nice if we could call `order.customer()`, and our associated customer was automatically returned.  Ok here's how we do it."
      ]
    },
    {
      "cell_type": "code",
      "execution_count": null,
      "metadata": {
        "id": "uUEvzKTm8ZzZ"
      },
      "outputs": [],
      "source": [
        "class Order:\n",
        "    __table__ = 'orders'\n",
        "    columns = ['id', 'customer_id', 'drink_id', 'bartender_id']\n",
        "\n",
        "    def customer(self):\n",
        "        cursor.execute('SELECT * FROM customers WHERE id = ?', (self.customer_id,))\n",
        "        customer_record = cursor.fetchone()\n",
        "        return build_from_record(Customer, customer_record)"
      ]
    },
    {
      "cell_type": "code",
      "execution_count": null,
      "metadata": {
        "id": "ww6hFRtc8Zza",
        "outputId": "1d3af6c2-cb6c-466b-8954-d80efeb715a5"
      },
      "outputs": [
        {
          "data": {
            "text/plain": [
              "{'id': 3, 'name': 'lisa simpson', 'price': 'philly'}"
            ]
          },
          "execution_count": 32,
          "metadata": {},
          "output_type": "execute_result"
        }
      ],
      "source": [
        "last_order = build_from_record(Order, last_order_record)\n",
        "\n",
        "customer = last_order.customer()\n",
        "\n",
        "customer.__dict__"
      ]
    },
    {
      "cell_type": "markdown",
      "metadata": {
        "id": "lGXbKF2w8Zzb"
      },
      "source": [
        "> Ok, so the big change is to now get the `customer_id` from self.  After all, it's our `last_order`, that has the `customer_id`, and then we take this `customer_id` and search through the customer's table to find the customer with that id."
      ]
    },
    {
      "cell_type": "markdown",
      "metadata": {
        "id": "L-wHSkCt8Zzb"
      },
      "source": [
        "Before moving on, let's spend a little more time on how to come up with these queries.  We start with our order."
      ]
    },
    {
      "cell_type": "code",
      "execution_count": null,
      "metadata": {
        "id": "t0D0YIwA8Zzb",
        "outputId": "6c2b7891-673d-4bbd-9dd4-a22b1f057f44"
      },
      "outputs": [
        {
          "data": {
            "text/plain": [
              "{'id': 9, 'customer_id': 3, 'drink_id': 4, 'bartender_id': 3}"
            ]
          },
          "execution_count": 33,
          "metadata": {},
          "output_type": "execute_result"
        }
      ],
      "source": [
        "last_order.__dict__"
      ]
    },
    {
      "cell_type": "markdown",
      "metadata": {
        "id": "JEYTAZER8Zzf"
      },
      "source": [
        "And want to find the associated `customer`.  As a starting point, we have access to all of the information on the a particular order, which we see above.  And we want to wind up with a customer.  So this means we connect the two by finding where the order's `customer_id` equals the customer's id.  Then we return an associated customer object."
      ]
    },
    {
      "cell_type": "code",
      "execution_count": null,
      "metadata": {
        "id": "yFYqgJ4E8Zzg"
      },
      "outputs": [],
      "source": [
        "def customer(self):\n",
        "    cursor.execute('SELECT * FROM customers WHERE id = ?', (self.customer_id,))\n",
        "    customer_record = cursor.fetchone()\n",
        "    return build_from_record(Customer, customer_record)"
      ]
    },
    {
      "cell_type": "markdown",
      "metadata": {
        "id": "MVTLi02L8Zzn"
      },
      "source": [
        "### Give it a shot"
      ]
    },
    {
      "cell_type": "markdown",
      "metadata": {
        "id": "WxM4KxK-8Zzp"
      },
      "source": [
        "Ok now before moving on, fill in the drink and bartender functions from the order below."
      ]
    },
    {
      "cell_type": "markdown",
      "metadata": {
        "id": "o9PhpjYC8Zzr"
      },
      "source": [
        "> Try to write it out without referencing the `customer` function above (stretch yourself)."
      ]
    },
    {
      "cell_type": "code",
      "execution_count": null,
      "metadata": {
        "id": "tMfNPb7x8Zzr"
      },
      "outputs": [],
      "source": [
        "class Order:\n",
        "    __table__ = 'orders'\n",
        "    columns = ['id', 'customer_id', 'drink_id', 'bartender_id']\n",
        "\n",
        "    def drink(self):\n",
        "        pass\n",
        "\n",
        "    def bartender(self):\n",
        "        pass\n",
        "\n",
        "class Drink:\n",
        "    __table__ = 'drinks'\n",
        "    columns = ['id', 'name', 'calories', 'price', 'alcoholic']\n",
        "\n",
        "class Bartender:\n",
        "    __table__ = 'bartenders'\n",
        "    columns = ['id', 'name', 'hometown', 'birthyear']\n",
        "\n",
        "\n",
        "def build_from_record(Class, record):\n",
        "    if not record: return None\n",
        "    attr = dict(zip(Class.columns, record))\n",
        "    obj = Class()\n",
        "    obj.__dict__ = attr\n",
        "    return obj"
      ]
    },
    {
      "cell_type": "code",
      "execution_count": null,
      "metadata": {
        "id": "Vpv8LBVp8Zzr",
        "outputId": "15f764ae-3d96-4993-8796-80ccea71fbc4"
      },
      "outputs": [
        {
          "data": {
            "text/plain": [
              "{'id': 3, 'name': 'patty', 'hometown': 'philly', 'birthyear': 1970}"
            ]
          },
          "execution_count": 47,
          "metadata": {},
          "output_type": "execute_result"
        }
      ],
      "source": [
        "last_order = build_from_record(Order, last_order_record)\n",
        "\n",
        "bartender = last_order.bartender()\n",
        "\n",
        "bartender.__dict__\n",
        "# {'id': 3, 'name': 'patty', 'hometown': 'philly', 'birthyear': 1970}"
      ]
    },
    {
      "cell_type": "code",
      "execution_count": null,
      "metadata": {
        "id": "eU1J6vep8Z0I",
        "outputId": "ffbc7a98-340a-4a6b-fc24-5dbbb63cd725"
      },
      "outputs": [
        {
          "data": {
            "text/plain": [
              "{'id': 4,\n",
              " 'name': 'ice cream float',\n",
              " 'calories': 250,\n",
              " 'price': 8,\n",
              " 'alcoholic': 0}"
            ]
          },
          "execution_count": 48,
          "metadata": {},
          "output_type": "execute_result"
        }
      ],
      "source": [
        "drink = last_order.drink()\n",
        "drink.__dict__\n",
        "\n",
        "# {'id': 4, 'name': 'ice cream float', 'calories': 250, 'price': 8, 'alcoholic': 0}"
      ]
    },
    {
      "cell_type": "markdown",
      "metadata": {
        "id": "hAHNbe9c8Z0K"
      },
      "source": [
        "### Summary"
      ]
    },
    {
      "cell_type": "markdown",
      "metadata": {
        "id": "UzNAsc7Z8Z0N"
      },
      "source": [
        "In this lesson, we practiced writing a `hasone` relationship method.  The key steps are to think through what information we start with and what object we would like to return from the function.  So to write a function like `order.customer()`, we start with the information on that particular order, like `customer_id`, and want to end by returning the `customer` that same `id`."
      ]
    },
    {
      "cell_type": "code",
      "execution_count": null,
      "metadata": {
        "id": "cogZ5nAQ8Z0O"
      },
      "outputs": [],
      "source": [
        "def customer(self):\n",
        "    cursor.execute('SELECT * FROM customers WHERE id = ?', (self.customer_id,))\n",
        "    customer_record = cursor.fetchone()\n",
        "    return build_from_record(Customer, customer_record)"
      ]
    }
  ],
  "metadata": {
    "kernelspec": {
      "display_name": "Python 3 (ipykernel)",
      "language": "python",
      "name": "python3"
    },
    "language_info": {
      "codemirror_mode": {
        "name": "ipython",
        "version": 3
      },
      "file_extension": ".py",
      "mimetype": "text/x-python",
      "name": "python",
      "nbconvert_exporter": "python",
      "pygments_lexer": "ipython3",
      "version": "3.9.12"
    },
    "colab": {
      "provenance": [],
      "include_colab_link": true
    }
  },
  "nbformat": 4,
  "nbformat_minor": 0
}