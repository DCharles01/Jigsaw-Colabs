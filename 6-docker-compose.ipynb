{
  "cells": [
    {
      "cell_type": "markdown",
      "metadata": {
        "id": "view-in-github",
        "colab_type": "text"
      },
      "source": [
        "<a href=\"https://colab.research.google.com/github/DCharles01/Jigsaw-Colabs/blob/main/6-docker-compose.ipynb\" target=\"_parent\"><img src=\"https://colab.research.google.com/assets/colab-badge.svg\" alt=\"Open In Colab\"/></a>"
      ]
    },
    {
      "cell_type": "markdown",
      "metadata": {
        "id": "pUrtcbYVq59h"
      },
      "source": [
        "# Flask Docker Compose"
      ]
    },
    {
      "cell_type": "markdown",
      "metadata": {
        "id": "tlEAVXkgq59j"
      },
      "source": [
        "### Introduction"
      ]
    },
    {
      "cell_type": "markdown",
      "metadata": {
        "id": "ZvCUzSVuq59j"
      },
      "source": [
        "In this lesson, we'll work through setting up a multi-service application with docker compose.  Our application should consist of a streamlit front-end that hits a flask API in the backend.  That flask api will be able to make requests to a postgres service.\n",
        "\n",
        "Ok, let's get started."
      ]
    },
    {
      "cell_type": "markdown",
      "metadata": {
        "id": "r3McWWmhq59j"
      },
      "source": [
        "### Structuring our application"
      ]
    },
    {
      "cell_type": "markdown",
      "metadata": {
        "id": "4pnhXu1Dq59j"
      },
      "source": [
        "To begin, we can create some folders to place our different services."
      ]
    },
    {
      "cell_type": "markdown",
      "metadata": {
        "id": "SQJWeMk4q59k"
      },
      "source": [
        "```\n",
        "services/\n",
        "├── docker-compose.yml\n",
        "└── api\n",
        "    |_src\n",
        "└── frontend\n",
        "```"
      ]
    },
    {
      "cell_type": "markdown",
      "metadata": {
        "id": "w1U33Ehbq59k"
      },
      "source": [
        "### Beginning with the API"
      ]
    },
    {
      "cell_type": "markdown",
      "metadata": {
        "id": "DKXiBNTeq59k"
      },
      "source": [
        "Ok, now let's get started with building out a flask api.  Develop an api so that when we visit `/locations`, we see a list of locations that Anthony Bourdain visited in his TV show *No Reservations*.\n",
        "\n",
        "We can begin by returning the list of locations provided here:"
      ]
    },
    {
      "cell_type": "code",
      "execution_count": null,
      "metadata": {
        "id": "AK_6FY-tq59l"
      },
      "outputs": [],
      "source": [
        "locations = [{'country': 'France', 'city': 'Paris',\n",
        "              'coordinates': '48.856614,2.352222'},\n",
        "               {'country': 'Iceland', 'city': 'Reykjavík',\n",
        "                'coordinates': '64.126521,-21.817439'}]"
      ]
    },
    {
      "cell_type": "markdown",
      "metadata": {
        "id": "v3jL3Z5sq59l"
      },
      "source": [
        "Make sure that the environmental `FLASK_APP` points to the appropriate file."
      ]
    },
    {
      "cell_type": "markdown",
      "metadata": {
        "id": "-wBWbb-oq59m"
      },
      "source": [
        "> Use a `.env` file to store the environmental variables.\n",
        "\n",
        "> Use a `requirements.txt` file to install the flask library."
      ]
    },
    {
      "cell_type": "markdown",
      "metadata": {
        "id": "rxxU4St-q59m"
      },
      "source": [
        "When it's complete, we should be able to call `flask run` and make a request to `/locations` to see a list of locations."
      ]
    },
    {
      "cell_type": "code",
      "execution_count": null,
      "metadata": {
        "id": "3j8TIai5q59m",
        "outputId": "baa32a37-f974-4e80-b31e-288c98011d16"
      },
      "outputs": [
        {
          "data": {
            "text/plain": [
              "[{'city': 'Paris', 'coordinates': '48.856614,2.352222', 'country': 'France'},\n",
              " {'city': 'Reykjavík',\n",
              "  'coordinates': '64.126521,-21.817439',\n",
              "  'country': 'Iceland'}]"
            ]
          },
          "execution_count": 4,
          "metadata": {},
          "output_type": "execute_result"
        }
      ],
      "source": [
        "import requests\n",
        "response = requests.get('http://127.0.0.1:5000/locations')\n",
        "response.json()\n",
        "\n",
        "# [{'city': 'Paris', 'coordinates': '48.856614,2.352222', 'country': 'France'},\n",
        "#  {'city': 'Reykjavík',\n",
        "#   'coordinates': '64.126521,-21.817439',\n",
        "#   'country': 'Iceland'}]\n"
      ]
    },
    {
      "cell_type": "markdown",
      "metadata": {
        "id": "bKuLixjRq59m"
      },
      "source": [
        "Ok, now that we have this initial api built out, let's dockerize our API. This involves a Dockerfile located inside of the `/api` folder.\n",
        "\n",
        "Here we'll get you started."
      ]
    },
    {
      "cell_type": "markdown",
      "metadata": {
        "id": "Ky-R9yiTq59n"
      },
      "source": [
        "```Dockerfile\n",
        "FROM python:3.7-alpine\n",
        "WORKDIR /usr/src/app\n",
        "\n",
        "...\n",
        "\n",
        "CMD [\"flask\", \"run\", \"--host=0.0.0.0\"]\n",
        "```"
      ]
    },
    {
      "cell_type": "markdown",
      "metadata": {
        "id": "Fap7doK1q59n"
      },
      "source": [
        "> Remember that we need to set the host argument to expose our server outside of the docker container."
      ]
    },
    {
      "cell_type": "markdown",
      "metadata": {
        "id": "zTZ3r1SMq59n"
      },
      "source": [
        "Ok, now build the image `docker build`."
      ]
    },
    {
      "cell_type": "markdown",
      "metadata": {
        "id": "OkriUUrEq59n"
      },
      "source": [
        "Then run the image so that we can make the following request."
      ]
    },
    {
      "cell_type": "code",
      "execution_count": null,
      "metadata": {
        "id": "OI8xs8qDq59n",
        "outputId": "ec8294b3-9fcd-4508-fea6-bc79b92716fc"
      },
      "outputs": [
        {
          "data": {
            "text/plain": [
              "[{'city': 'Paris', 'coordinates': '48.856614,2.352222', 'country': 'France'},\n",
              " {'city': 'Reykjavík',\n",
              "  'coordinates': '64.126521,-21.817439',\n",
              "  'country': 'Iceland'}]"
            ]
          },
          "execution_count": 2,
          "metadata": {},
          "output_type": "execute_result"
        }
      ],
      "source": [
        "import requests\n",
        "response = requests.get('http://0.0.0.0:5000/locations')\n",
        "response.json()"
      ]
    },
    {
      "cell_type": "markdown",
      "metadata": {
        "id": "Yogv6oHZq59n"
      },
      "source": [
        "### Moving to Docker Compose"
      ]
    },
    {
      "cell_type": "markdown",
      "metadata": {
        "id": "UzZCo-3kq59n"
      },
      "source": [
        "Ok, now let's integrate our api with docker-compose file.\n",
        "\n",
        "Specify top-level keys of `version` and `services`, then define a service called `api`.  For api define both how to build the service and the ports.\n",
        "\n",
        "> You do not need to specify the environment as this is read from our .env file which is located in the image."
      ]
    },
    {
      "cell_type": "markdown",
      "metadata": {
        "id": "xbvGT2JFq59n"
      },
      "source": [
        "```yaml\n",
        "version: '3.7'\n",
        "services:\n",
        "```"
      ]
    },
    {
      "cell_type": "markdown",
      "metadata": {
        "id": "KFXgemDHq59n"
      },
      "source": [
        "Once you have the docker-compose file for this service started.  Let's try to boot it up."
      ]
    },
    {
      "cell_type": "markdown",
      "metadata": {
        "id": "FZL7OLKCq59n"
      },
      "source": [
        "`docker-compose up`"
      ]
    },
    {
      "cell_type": "markdown",
      "metadata": {
        "id": "adZc0AZ6q59n"
      },
      "source": [
        "<img src=\"https://github.com/jigsawlabs-student/multiservices-compose-lab/blob/main/services-api.png?raw=1\" width=\"70%\">"
      ]
    },
    {
      "cell_type": "markdown",
      "metadata": {
        "id": "MW-6sexaq59n"
      },
      "source": [
        "Once again, we should be able to reach `0.0.0.0:5000` and see the list of locations."
      ]
    },
    {
      "cell_type": "markdown",
      "metadata": {
        "id": "89IAB4-aq59n"
      },
      "source": [
        "### Connecting the Services"
      ]
    },
    {
      "cell_type": "markdown",
      "metadata": {
        "id": "rZ5L7Gp6q59n"
      },
      "source": [
        "Next up is to build an initial streamlit app.  To do this, build out the following structure:\n",
        "```\n",
        "frontend\n",
        "├── Dockerfile\n",
        "├── requirements.txt\n",
        "└── src\n",
        "    └── index.py\n",
        "```"
      ]
    },
    {
      "cell_type": "markdown",
      "metadata": {
        "id": "HdPGQICgq59o"
      },
      "source": [
        "Now the `requirements.txt` should have the following libraries listed:"
      ]
    },
    {
      "cell_type": "markdown",
      "metadata": {
        "id": "aWrtxJHcq59o"
      },
      "source": [
        "```\n",
        "streamlit\n",
        "black\n",
        "altair\n",
        "```"
      ]
    },
    {
      "cell_type": "markdown",
      "metadata": {
        "id": "_QSmC97Uq59o"
      },
      "source": [
        "And in the `index.py` file we can place the following:"
      ]
    },
    {
      "cell_type": "markdown",
      "metadata": {
        "id": "DRS765sFq59o"
      },
      "source": [
        "```python\n",
        "import streamlit as st\n",
        "\n",
        "st.write(\"\"\"\n",
        "# My first app\n",
        "Hello *world!*\n",
        "\"\"\")\n",
        "```"
      ]
    },
    {
      "cell_type": "markdown",
      "metadata": {
        "id": "plJwgOZiq59o"
      },
      "source": [
        "At this point, we should be able to boot up our streamlit app by installing the libraries specified in `requirements.txt`. And then running `streamlit run src/index.py`."
      ]
    },
    {
      "cell_type": "markdown",
      "metadata": {
        "id": "yeBidVa2q59o"
      },
      "source": [
        "* Dockerizing streamlit"
      ]
    },
    {
      "cell_type": "markdown",
      "metadata": {
        "id": "iYXNJLcuq59o"
      },
      "source": [
        "From here, we can dockerize our streamlit app.  We'll do so by filling in the corresponding `Dockerfile`.  The one trick is that the Dockerfile should inherit from with `python:3.7` instead of `python:3.7-alpine`.\n",
        "\n",
        "So the first two lines will look like the following:"
      ]
    },
    {
      "cell_type": "markdown",
      "metadata": {
        "id": "7rOuUbp2q59o"
      },
      "source": [
        "```Dockerfile\n",
        "FROM python:3.7\n",
        "WORKDIR /usr/src/app\n",
        "```"
      ]
    },
    {
      "cell_type": "markdown",
      "metadata": {
        "id": "ue-CBCVNq59o"
      },
      "source": [
        "> We'll let you finish it up the Dockerfile from there."
      ]
    },
    {
      "cell_type": "markdown",
      "metadata": {
        "id": "BzMtSpgPq59o"
      },
      "source": [
        "When it's complete, build the image and then run a container, exposing the appropriate port."
      ]
    },
    {
      "cell_type": "markdown",
      "metadata": {
        "id": "f10vkzlWq59o"
      },
      "source": [
        "<img src=\"https://github.com/jigsawlabs-student/multiservices-compose-lab/blob/main/streamlit-initial.png?raw=1\" width=\"60%\">"
      ]
    },
    {
      "cell_type": "markdown",
      "metadata": {
        "id": "vrnY1kPlq59t"
      },
      "source": [
        "* Integrating with docker compose"
      ]
    },
    {
      "cell_type": "markdown",
      "metadata": {
        "id": "hTJIOeS9q59t"
      },
      "source": [
        "Next up is to add the corresponding lines to our docker compose file so that running `docker-compose up` boots up both our api and our frontend.  Add a new service to the docker-compose file called `frontend`, along with rest of the configuration for the service."
      ]
    },
    {
      "cell_type": "markdown",
      "metadata": {
        "id": "_k3nVeFRq59t"
      },
      "source": [
        "### Connecting the two"
      ]
    },
    {
      "cell_type": "markdown",
      "metadata": {
        "id": "21rueox2q59t"
      },
      "source": [
        "Now we would like our frontend to use our api, well as an api, and make a request to it.  \n",
        "\n",
        "1. Bind Mapping\n",
        "\n",
        "Before getting on with it, it would be nice if we could update our application without rebuilding the image.  We can accomplish this through a bindmapping.  \n",
        "\n",
        "In the `docker-compose` file, add the following under the `frontend` service.\n",
        "\n",
        "```yaml\n",
        "volumes:\n",
        "      - ./frontend/src:/usr/src/app/src\n",
        "```"
      ]
    },
    {
      "cell_type": "markdown",
      "metadata": {
        "id": "OYg-Ky2Xq59t"
      },
      "source": [
        "This will map our ports from `src` to the directory in our frontend image.  "
      ]
    },
    {
      "cell_type": "markdown",
      "metadata": {
        "id": "RFepUk1wq59t"
      },
      "source": [
        "> **Notice**: That our source is specified from a path relative to the docker-compose file, but our target is specified using the *absolute path* of the image."
      ]
    },
    {
      "cell_type": "markdown",
      "metadata": {
        "id": "Wrr2vvr5q59t"
      },
      "source": [
        "So run `docker-compose up` again, and see if we can make changes to the streamlit app without rebuilding the image."
      ]
    },
    {
      "cell_type": "markdown",
      "metadata": {
        "id": "Up19GUrEq59t"
      },
      "source": [
        "2. Making requests to the api\n",
        "\n",
        "Ok, now it's time to make requests to the api.  In the streamlit app, import the requests library and make a request to the locations route in our api.\n",
        "\n",
        "`api:5000/locations`\n",
        "\n",
        "Display the json on `streamlit`.\n",
        "\n",
        "You can do this by writing the json:\n",
        "\n",
        "```python\n",
        "locations = response.json()\n",
        "for location in locations['locations']:\n",
        "    st.write(location[1])\n",
        "```"
      ]
    },
    {
      "cell_type": "markdown",
      "metadata": {
        "id": "Mpp8WyL5q59t"
      },
      "source": [
        "3. Bind mapping again\n",
        "\n",
        "Then let's bind map the contents of the `/api/src` locally to that in the api container.  This way if we make changes locally, they will immediately be updated in the container.\n",
        "\n",
        "> To see the absolute path in the container, you may need to sh into the container.\n",
        "\n",
        "Now one thing is that the container will not *display* live updates made via the api.  This is because our flask app does not have `debug = True`.  That's ok, we can still make a change to say the `__init__` file, then `sh` into the container and `cat` the `__init__` to confirm that the file changed."
      ]
    },
    {
      "cell_type": "markdown",
      "metadata": {
        "id": "SPQaQnAcq59u"
      },
      "source": [
        "### Integrating a Database"
      ]
    },
    {
      "cell_type": "markdown",
      "metadata": {
        "id": "vZOBKwySq59u"
      },
      "source": [
        "Ok, now that we have data coming from our api coming to the streamlit app.  Let's change how our api gets it's data.  Currently, it's just hardcoded into the locations route."
      ]
    },
    {
      "cell_type": "markdown",
      "metadata": {
        "id": "3y5Q4Azzq59u"
      },
      "source": [
        "```python\n",
        "@app.route('/locations')\n",
        "def locations():\n",
        "    locations = [{'country': 'France', 'city': 'Paris',\n",
        "              'coordinates': '48.856614,2.352222'},\n",
        "               {'country': 'Iceland', 'city': 'Reykjavík',\n",
        "                'coordinates': '64.126521,-21.817439'}]\n",
        "    return jsonify(locations)\n",
        "```"
      ]
    },
    {
      "cell_type": "markdown",
      "metadata": {
        "id": "jvCWuwjiq59u"
      },
      "source": [
        "Let's change this so that we get the data from a database."
      ]
    },
    {
      "cell_type": "markdown",
      "metadata": {
        "id": "LNMZrMWRq59u"
      },
      "source": [
        "1. Adding a DB service"
      ]
    },
    {
      "cell_type": "markdown",
      "metadata": {
        "id": "3pEGvAxcq59u"
      },
      "source": [
        "First, in the docker-compose file, let's add a db service.  \n",
        "> We don't need to worry about connecting it to our flask-api just yet.\n",
        "\n",
        "Ok. let's get started.\n",
        "\n",
        "This service should use the `postgres` image.  And to get it working we need to do the following:\n",
        "\n",
        "1. Specify the environment variables `POSTGRES_USER` and `POSTGRES_PASSWORD`\n",
        "2. Map the port from `5432` to `5432`\n",
        "3. Specify and create a volume to store data which is stored in `/var/lib/postgresql/data`.\n",
        "\n",
        "> Try not to refer to the previous lessons in setting this up.  It is ok, to refer to the [postgres documentation](https://hub.docker.com/_/postgres)."
      ]
    },
    {
      "cell_type": "markdown",
      "metadata": {
        "id": "j_SI3hd9q59u"
      },
      "source": [
        "Then, let's run docker-compose up.  We should now see the db service running alongside the two other services."
      ]
    },
    {
      "cell_type": "markdown",
      "metadata": {
        "id": "oY_MTIunq59u"
      },
      "source": [
        "<img src=\"https://github.com/jigsawlabs-student/multiservices-compose-lab/blob/main/multiple-services.png?raw=1\" width=\"80%\">"
      ]
    },
    {
      "cell_type": "markdown",
      "metadata": {
        "id": "4c2ZfgFJq59u"
      },
      "source": [
        "2. Connecting to api to our db"
      ]
    },
    {
      "cell_type": "markdown",
      "metadata": {
        "id": "zdCFdjg7q59u"
      },
      "source": [
        "Next up is to install the postgres package in our api, and connect it to our db service.  First, let's install the appropriate dependencies needed for the postgres package.  To install these dependencies, add the following lines to the api's Dockerfile."
      ]
    },
    {
      "cell_type": "markdown",
      "metadata": {
        "id": "6aUYZKQ7q59u"
      },
      "source": [
        "```Dockerfile\n",
        "RUN apk update \\\n",
        "    && apk add postgresql-dev gcc python3-dev musl-dev\n",
        "```"
      ]
    },
    {
      "cell_type": "markdown",
      "metadata": {
        "id": "Zjbn-f6bq59u"
      },
      "source": [
        "Then add the postgres library to the `requirements.txt` file."
      ]
    },
    {
      "cell_type": "markdown",
      "metadata": {
        "id": "VYXbWOy6q59u"
      },
      "source": [
        "And then in the `__init__.py` file, let's setup postgres to connect to our db."
      ]
    },
    {
      "cell_type": "markdown",
      "metadata": {
        "id": "32PqOSKBq59u"
      },
      "source": [
        "```python\n",
        "POSTGRES_DATABASE_URI = os.environ.get('DATABASE_URL')\n",
        "connection = Postgres(POSTGRES_DATABASE_URI)\n",
        "\n",
        "connection.run(\"CREATE TABLE locations (name text)\")\n",
        "connection.run(\"INSERT INTO locations VALUES ('maggie simpson')\")\n",
        "```"
      ]
    },
    {
      "cell_type": "markdown",
      "metadata": {
        "id": "pWhlQ14Jq59u"
      },
      "source": [
        "And then in the routes we can select from the database and return the data as json."
      ]
    },
    {
      "cell_type": "markdown",
      "metadata": {
        "id": "S5BWzvh9q59u"
      },
      "source": [
        "```python\n",
        "@app.route('/locations')\n",
        "def index():\n",
        "    users = connection.all('SELECT * FROM locations;')\n",
        "    return jsonify({'locations': locations})\n",
        "```"
      ]
    },
    {
      "cell_type": "markdown",
      "metadata": {
        "id": "7YRLJZCPq59v"
      },
      "source": [
        "3. Refactor the initial database call"
      ]
    },
    {
      "cell_type": "markdown",
      "metadata": {
        "id": "-zmWs9Foq59v"
      },
      "source": [
        "Now instead of creating a table each time we boot up our application, we can specify an initialization function directly in sql.  We can do this by adding a volume that establishes a bind mount between the folder with our sql file `/docker-entrypoint-initdb.d/`.\n",
        "\n",
        "Here, we have an initial set of sql defined in the `db` folder."
      ]
    },
    {
      "cell_type": "markdown",
      "metadata": {
        "id": "WWd-TLTJq59v"
      },
      "source": [
        "### Connect to frontend to the API"
      ]
    },
    {
      "cell_type": "markdown",
      "metadata": {
        "id": "i7HR3QM9q59v"
      },
      "source": [
        "Now that we have connected the api to the db, it's time to connect the frontend to the api.  We can do so by making a request to our api from our streamlit application."
      ]
    },
    {
      "cell_type": "markdown",
      "metadata": {
        "id": "N87m6IQgq59v"
      },
      "source": [
        "Use the requests library to make the correct request.  And use this request to get the data to display the list of cities.\n",
        "\n",
        "> One gotcha is that you will likely need to start up the db service before running `docker-compose up` to properly make the request."
      ]
    },
    {
      "cell_type": "markdown",
      "metadata": {
        "id": "pBr05jOWq59v"
      },
      "source": [
        "> <img src=\"https://github.com/jigsawlabs-student/multiservices-compose-lab/blob/main/app-display.png?raw=1\" width=\"60%\">"
      ]
    },
    {
      "cell_type": "markdown",
      "metadata": {
        "id": "-NVug6aSq59v"
      },
      "source": [
        "Ok, with this we have used docker-compose to connect all three of our services."
      ]
    },
    {
      "cell_type": "markdown",
      "metadata": {
        "id": "DhgvQddvq59v"
      },
      "source": [
        "### Resources\n",
        "\n",
        "[Docker compose env](https://medium.com/better-programming/using-variables-in-docker-compose-265a604c2006)\n",
        "\n",
        "[Parts unknown travel places](https://github.com/underthecurve/bourdain-travel-places)\n",
        "\n",
        "[Return Json from DB](https://varun-verma.medium.com/use-psycopg2-to-return-dictionary-like-values-key-value-pairs-4d3047d8de1b)\n",
        "\n",
        "[Dockerizing Flask and Unicorn](https://testdriven.io/blog/dockerizing-flask-with-postgres-gunicorn-and-nginx/)\n",
        "\n",
        "[Docker build](https://stackoverflow.com/questions/46711990/error-pg-config-executable-not-found-when-installing-psycopg2-on-alpine-in-docker)\n",
        "\n",
        "[Nginx Flask Docker Postgres](http://www.ameyalokare.com/docker/2017/09/20/nginx-flask-postgres-docker-compose.html)"
      ]
    },
    {
      "cell_type": "markdown",
      "metadata": {
        "id": "keizgTgNq59v"
      },
      "source": [
        "[docker with volumes](https://www.saltycrane.com/blog/2019/01/how-run-postgresql-docker-mac-local-development/)"
      ]
    }
  ],
  "metadata": {
    "kernelspec": {
      "display_name": "Python 3 (ipykernel)",
      "language": "python",
      "name": "python3"
    },
    "language_info": {
      "codemirror_mode": {
        "name": "ipython",
        "version": 3
      },
      "file_extension": ".py",
      "mimetype": "text/x-python",
      "name": "python",
      "nbconvert_exporter": "python",
      "pygments_lexer": "ipython3",
      "version": "3.9.12"
    },
    "colab": {
      "provenance": [],
      "include_colab_link": true
    }
  },
  "nbformat": 4,
  "nbformat_minor": 0
}