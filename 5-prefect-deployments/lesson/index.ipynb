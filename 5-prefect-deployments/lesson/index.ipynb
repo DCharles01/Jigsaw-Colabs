{
  "cells": [
    {
      "cell_type": "markdown",
      "metadata": {
        "id": "view-in-github",
        "colab_type": "text"
      },
      "source": [
        "<a href=\"https://colab.research.google.com/github/DCharles01/Jigsaw-Colabs/blob/main/5-prefect-deployments/lesson/index.ipynb\" target=\"_parent\"><img src=\"https://colab.research.google.com/assets/colab-badge.svg\" alt=\"Open In Colab\"/></a>"
      ]
    },
    {
      "cell_type": "markdown",
      "id": "cee40194-2059-400f-86fc-a061dccb4567",
      "metadata": {
        "id": "cee40194-2059-400f-86fc-a061dccb4567"
      },
      "source": [
        "# Prefect Deployment"
      ]
    },
    {
      "cell_type": "markdown",
      "id": "7a3427e7-cbb3-47fc-a774-4956f170388f",
      "metadata": {
        "id": "7a3427e7-cbb3-47fc-a774-4956f170388f"
      },
      "source": [
        "### Introduction"
      ]
    },
    {
      "cell_type": "markdown",
      "id": "94b0e4cf-142e-4b7a-99d5-68b112836ee5",
      "metadata": {
        "id": "94b0e4cf-142e-4b7a-99d5-68b112836ee5"
      },
      "source": [
        "So far we have seen how to get set up with prefect, and build our first flow and tasks.  However, we have not yet seen how to *schedule* this flow so that it is called say every hour.  To do this, we'll need to work with prefect **deployments**.  Ok, let's get going."
      ]
    },
    {
      "cell_type": "markdown",
      "id": "0f2a2a76-8d51-4090-a91f-a5e1bb401451",
      "metadata": {
        "id": "0f2a2a76-8d51-4090-a91f-a5e1bb401451"
      },
      "source": [
        "### Starting with our Flow\n",
        "\n",
        "Ok, if you look at the current codebase, we have a flow that's defined in our `index.py` file, and the `get_restaurants` function is our flow function."
      ]
    },
    {
      "cell_type": "markdown",
      "id": "b22b583e-53c2-495a-b0cd-77a356d023d8",
      "metadata": {
        "id": "b22b583e-53c2-495a-b0cd-77a356d023d8"
      },
      "source": [
        "```python\n",
        "import requests\n",
        "from prefect import flow, task\n",
        "\n",
        "@task\n",
        "def find_receipts(name):\n",
        "    url = \"https://data.texas.gov/resource/naix-2893.json\"\n",
        "    response = requests.get(url, params = {'taxpayer_name': name})\n",
        "    return response.json()[:1]\n",
        "\n",
        "@flow\n",
        "def get_restaurants(url: str):\n",
        "    receipts = find_receipts(url)\n",
        "    return receipts\n",
        "\n",
        "name = 'HONDURAS MAYA CAFE & BAR LLC'\n",
        "print(get_restaurants(name))\n",
        "```"
      ]
    },
    {
      "cell_type": "markdown",
      "id": "3c0a8ed8-3636-484d-835a-a57ef8a495ec",
      "metadata": {
        "id": "3c0a8ed8-3636-484d-835a-a57ef8a495ec"
      },
      "source": [
        "From here, it's a good idea to run our flow, by running our script."
      ]
    },
    {
      "cell_type": "markdown",
      "id": "c193d0be-f6d2-44b3-8724-cbddeadaee13",
      "metadata": {
        "id": "c193d0be-f6d2-44b3-8724-cbddeadaee13"
      },
      "source": [
        "`python3 index.py`"
      ]
    },
    {
      "cell_type": "markdown",
      "id": "3eb1fe30-dfab-4cdf-aeba-28a11fd56341",
      "metadata": {
        "id": "3eb1fe30-dfab-4cdf-aeba-28a11fd56341"
      },
      "source": [
        "Now, because our flow has a different name then we used previously, running this flow will have created a new flow in our prefect dashboard."
      ]
    },
    {
      "cell_type": "markdown",
      "id": "c08413a8-2678-4e32-b8b7-67086ac9369c",
      "metadata": {
        "id": "c08413a8-2678-4e32-b8b7-67086ac9369c"
      },
      "source": [
        "<img src=\"https://github.com/data-engineering-jigsaw/prefect-deployments/blob/main/5-prefect-deployments/lesson/get-restaurants.png?raw=1\" width=\"80%\">"
      ]
    },
    {
      "cell_type": "markdown",
      "id": "6f3b7eac-1568-4f56-93fa-0f2368ff5e0c",
      "metadata": {
        "id": "6f3b7eac-1568-4f56-93fa-0f2368ff5e0c"
      },
      "source": [
        "And if we click on that new flow, `get-restaurants`, we'll see the our 1 flow run."
      ]
    },
    {
      "cell_type": "markdown",
      "id": "bab235f6-40c2-436f-81de-83893dd1dda4",
      "metadata": {
        "id": "bab235f6-40c2-436f-81de-83893dd1dda4"
      },
      "source": [
        "<img src=\"https://github.com/data-engineering-jigsaw/prefect-deployments/blob/main/5-prefect-deployments/lesson/flow-runs.png?raw=1\" width=\"70%\">"
      ]
    },
    {
      "cell_type": "markdown",
      "id": "fa0fabff-34e2-4be4-ad22-e9e7eb3e2ea0",
      "metadata": {
        "id": "fa0fabff-34e2-4be4-ad22-e9e7eb3e2ea0"
      },
      "source": [
        "We'll also see a tab for `Deployments`, but if we click on the tab we won't find any deployments associated with the flow."
      ]
    },
    {
      "cell_type": "markdown",
      "id": "ff06128d-6d3b-4267-9ba1-54a2236298f6",
      "metadata": {
        "id": "ff06128d-6d3b-4267-9ba1-54a2236298f6"
      },
      "source": [
        "<img src=\"https://github.com/data-engineering-jigsaw/prefect-deployments/blob/main/5-prefect-deployments/lesson/empty-deployments.png?raw=1\" width=\"50%\">"
      ]
    },
    {
      "cell_type": "markdown",
      "id": "2dc107f7-58d1-4e2c-afa6-3ab1190cfa2f",
      "metadata": {
        "id": "2dc107f7-58d1-4e2c-afa6-3ab1190cfa2f"
      },
      "source": [
        "### Creating a deployment"
      ]
    },
    {
      "cell_type": "markdown",
      "id": "9dd66b50-7aa7-4478-a778-a718ff03ca86",
      "metadata": {
        "id": "9dd66b50-7aa7-4478-a778-a718ff03ca86"
      },
      "source": [
        "Ok, so now let's create a deployment, which will allow us to schedule our flow.  \n",
        "\n",
        "The deployment will contain the rules specifying how often, and how to run our flow."
      ]
    },
    {
      "cell_type": "markdown",
      "id": "bb79161d-703a-4e44-a53e-2fa86db8c7f0",
      "metadata": {
        "id": "bb79161d-703a-4e44-a53e-2fa86db8c7f0"
      },
      "source": [
        "We can create our deployment by commenting out the line that calls our flow (at the bottom of `index.py`), and adding the following to the bottom of the file:"
      ]
    },
    {
      "cell_type": "markdown",
      "id": "52ae061e-2711-447b-89ae-65aee04e298d",
      "metadata": {
        "id": "52ae061e-2711-447b-89ae-65aee04e298d"
      },
      "source": [
        "```python\n",
        "#index.py\n",
        "\n",
        "# get_restaurants(\"HONDURAS MAYA CAFE & BAR LLC\")\n",
        "\n",
        "if __name__ == \"__main__\":\n",
        "    get_restaurants.serve(name=\"get-restaurants-deployment\")\n",
        "```"
      ]
    },
    {
      "cell_type": "markdown",
      "id": "ab8351a1-5b63-45d8-b9f0-9d875a43a8a7",
      "metadata": {
        "id": "ab8351a1-5b63-45d8-b9f0-9d875a43a8a7"
      },
      "source": [
        "Ok so if you run this script again, in your terminal, you will see a line saying that `Prefect is now looking for any scheduled runs`.  This means that prefect has created your deployment.\n",
        "\n",
        "If you go to the prefect UI, you can see our new deployment by clicking on the deployments tab."
      ]
    },
    {
      "cell_type": "markdown",
      "id": "9afb4bea-e755-46eb-b9eb-778a8103777f",
      "metadata": {
        "id": "9afb4bea-e755-46eb-b9eb-778a8103777f"
      },
      "source": [
        "<img src=\"https://github.com/data-engineering-jigsaw/prefect-deployments/blob/main/5-prefect-deployments/lesson/deployments-tab.png?raw=1\">"
      ]
    },
    {
      "cell_type": "markdown",
      "id": "de7cc290-4131-4dc2-9027-933f3dd54988",
      "metadata": {
        "id": "de7cc290-4131-4dc2-9027-933f3dd54988"
      },
      "source": [
        "And if you go back to flows, and click on our get-restaurants flow, you'll now see the deployment listed in the tab."
      ]
    },
    {
      "cell_type": "markdown",
      "id": "903db31c-80a1-465e-9e73-ffde33187272",
      "metadata": {
        "id": "903db31c-80a1-465e-9e73-ffde33187272"
      },
      "source": [
        "<img src=\"https://github.com/data-engineering-jigsaw/prefect-deployments/blob/main/5-prefect-deployments/lesson/flow-deployment.png?raw=1\" width=\"60%\">"
      ]
    },
    {
      "cell_type": "markdown",
      "id": "78ea1567-4c2d-4614-abfb-887c97f648ab",
      "metadata": {
        "id": "78ea1567-4c2d-4614-abfb-887c97f648ab"
      },
      "source": [
        "Now, we'll eventually get to scheduling these deployments to run automatically, but it's a good idea to first kick off our deployment manually to make it easier to debug.  \n",
        "\n",
        "As prefect pointed out, we can kick off our deployment run with the following."
      ]
    },
    {
      "cell_type": "markdown",
      "id": "5ff70247-820b-4658-b679-ee1f5f4b57de",
      "metadata": {
        "id": "5ff70247-820b-4658-b679-ee1f5f4b57de"
      },
      "source": [
        "`prefect deployment run 'get-restaurants/get-restaurants-deployment'`"
      ]
    },
    {
      "cell_type": "markdown",
      "id": "32e5fd34-4e0d-4d7e-b6ac-8c1b819e7aaa",
      "metadata": {
        "id": "32e5fd34-4e0d-4d7e-b6ac-8c1b819e7aaa"
      },
      "source": [
        "If you go to the prefect ui, and click on our deployment followed by runs, you'll see that this failed."
      ]
    },
    {
      "cell_type": "markdown",
      "id": "6c272c67-a1f6-4ce3-9f14-66400037b887",
      "metadata": {
        "id": "6c272c67-a1f6-4ce3-9f14-66400037b887"
      },
      "source": [
        "<img src=\"https://github.com/data-engineering-jigsaw/prefect-deployments/blob/main/5-prefect-deployments/lesson/deployment-runs.png?raw=1\" width=\"60%\">"
      ]
    },
    {
      "cell_type": "markdown",
      "id": "521c6825-9530-4ad1-9acd-14a611ac4c95",
      "metadata": {
        "id": "521c6825-9530-4ad1-9acd-14a611ac4c95"
      },
      "source": [
        "And if you click on that run (above `ochre-rooster`), you can see the error message."
      ]
    },
    {
      "cell_type": "markdown",
      "id": "bc85fba4-e82a-49b3-b5ab-92cc8b397d20",
      "metadata": {
        "id": "bc85fba4-e82a-49b3-b5ab-92cc8b397d20"
      },
      "source": [
        "<img src=\"https://github.com/data-engineering-jigsaw/prefect-deployments/blob/main/5-prefect-deployments/lesson/error-msg.png?raw=1\" width=\"90%\">"
      ]
    },
    {
      "cell_type": "markdown",
      "id": "13a4774d-9e71-40b8-83b8-c19cb5ffa2ea",
      "metadata": {
        "id": "13a4774d-9e71-40b8-83b8-c19cb5ffa2ea"
      },
      "source": [
        "The issue is that we did not tell our deployment to pass through a `url` when calling our flow.  And that argument is required."
      ]
    },
    {
      "cell_type": "markdown",
      "id": "d4d7d4e4-07df-4c07-89da-67bd7b8f6ea3",
      "metadata": {
        "id": "d4d7d4e4-07df-4c07-89da-67bd7b8f6ea3"
      },
      "source": [
        "So let's update our `serve` function (and thus our deployment) to the following:"
      ]
    },
    {
      "cell_type": "markdown",
      "id": "454a43c4-b805-4d5e-96bd-fcc8c248f503",
      "metadata": {
        "id": "454a43c4-b805-4d5e-96bd-fcc8c248f503"
      },
      "source": [
        "```python\n",
        "if __name__ == \"__main__\":\n",
        "    get_restaurants.serve(\n",
        "        name=\"get-restaurants-deployment\",\n",
        "        parameters={'url': \"HONDURAS MAYA CAFE & BAR LLC\"}\n",
        "        )\n",
        "```"
      ]
    },
    {
      "cell_type": "markdown",
      "id": "f257bebd-ff06-47fc-b426-6fee3ec18e76",
      "metadata": {
        "id": "f257bebd-ff06-47fc-b426-6fee3ec18e76"
      },
      "source": [
        "Press `ctl + c` in the terminal, and then run the python script again.  Then kickoff another deployment run in the terminal with the following:"
      ]
    },
    {
      "cell_type": "markdown",
      "id": "c046110b-af80-4b6e-9643-ea6192fa435a",
      "metadata": {
        "id": "c046110b-af80-4b6e-9643-ea6192fa435a"
      },
      "source": [
        "`prefect deployment run 'get-restaurants/get-restaurants-deployment'`"
      ]
    },
    {
      "cell_type": "markdown",
      "id": "200dc6c9-4163-446f-ac2f-c06ad7360765",
      "metadata": {
        "id": "200dc6c9-4163-446f-ac2f-c06ad7360765"
      },
      "source": [
        "This time, if you look at the new deployment-run, you should see that it successfully completed."
      ]
    },
    {
      "cell_type": "markdown",
      "id": "a7bbc711-01e8-4776-9163-2960bdb99554",
      "metadata": {
        "id": "a7bbc711-01e8-4776-9163-2960bdb99554"
      },
      "source": [
        "### Scheduling our deployments"
      ]
    },
    {
      "cell_type": "markdown",
      "id": "e5a2757d-6212-4c82-bb99-d8b424673965",
      "metadata": {
        "id": "e5a2757d-6212-4c82-bb99-d8b424673965"
      },
      "source": [
        "Ok, so now it's time to schedule our deployments.  We can do so by importing the `IntervalSchedule` class at the top of our flow.\n",
        "\n",
        "```python\n",
        "from prefect.server.schemas.schedules import IntervalSchedule\n",
        "```"
      ]
    },
    {
      "cell_type": "markdown",
      "id": "443ad6b2-3b65-4012-aa56-3b0f1cef1af0",
      "metadata": {
        "id": "443ad6b2-3b65-4012-aa56-3b0f1cef1af0"
      },
      "source": [
        "And then update our serve argument to be the following:"
      ]
    },
    {
      "cell_type": "markdown",
      "id": "f5188e06-dbb4-45e8-8871-6d074b239e60",
      "metadata": {
        "id": "f5188e06-dbb4-45e8-8871-6d074b239e60"
      },
      "source": [
        "```python\n",
        "if __name__ == \"__main__\":\n",
        "    get_restaurants.serve(\n",
        "        name=\"get-restaurants-deployment\",\n",
        "        schedule=IntervalSchedule(interval=100),\n",
        "        parameters={'url': \"HONDURAS MAYA CAFE & BAR LLC\"}\n",
        "        )\n",
        "```"
      ]
    },
    {
      "cell_type": "markdown",
      "id": "f8b2bb11-ad9f-4041-8c0a-8cfea46de810",
      "metadata": {
        "id": "f8b2bb11-ad9f-4041-8c0a-8cfea46de810"
      },
      "source": [
        "This will have our deployment run every 1 minute and 40 seconds."
      ]
    },
    {
      "cell_type": "markdown",
      "id": "053c036f-175b-44b9-9321-5ecc7aad63aa",
      "metadata": {
        "id": "053c036f-175b-44b9-9321-5ecc7aad63aa"
      },
      "source": [
        "And to successfully update the deployment, we now need to shut down the deployment by pressing `ctl + c` in our terminal, and then re-run our python script."
      ]
    },
    {
      "cell_type": "markdown",
      "id": "b5182f9a-fe6b-4fd7-8b81-97fcefd04e55",
      "metadata": {
        "id": "b5182f9a-fe6b-4fd7-8b81-97fcefd04e55"
      },
      "source": [
        "This time, if we re-click on the deployment, we'll see that it has a schedule of every 1 minute 40 seconds."
      ]
    },
    {
      "cell_type": "markdown",
      "id": "20ecf1b5-69b4-4185-97d3-98b01fe4907e",
      "metadata": {
        "id": "20ecf1b5-69b4-4185-97d3-98b01fe4907e"
      },
      "source": [
        "<img src=\"https://github.com/data-engineering-jigsaw/prefect-deployments/blob/main/5-prefect-deployments/lesson/minute-forty.png?raw=1\" width=\"70%\">"
      ]
    },
    {
      "cell_type": "markdown",
      "id": "0c9c7041-aee2-41f7-8d04-a9338ee850ab",
      "metadata": {
        "id": "0c9c7041-aee2-41f7-8d04-a9338ee850ab"
      },
      "source": [
        "And if you click on our deployment again, and sort the flow runs from oldest to newest, we will eventually see our deployment run successfully."
      ]
    },
    {
      "cell_type": "markdown",
      "id": "d8287f8a-f443-47ce-b80e-b71e4c773f62",
      "metadata": {
        "id": "d8287f8a-f443-47ce-b80e-b71e4c773f62"
      },
      "source": [
        "<img src=\"https://github.com/data-engineering-jigsaw/prefect-deployments/blob/main/5-prefect-deployments/lesson/oldest-newest.png?raw=1\" width=\"70%\">"
      ]
    },
    {
      "cell_type": "markdown",
      "id": "6364acb5-13fe-4d94-84c2-e5030621f5f9",
      "metadata": {
        "id": "6364acb5-13fe-4d94-84c2-e5030621f5f9"
      },
      "source": [
        "We'll also see that there are a lot of future deployments scheduled -- but if we press ctl+c in our terminal, these future deployments will disappear."
      ]
    },
    {
      "cell_type": "markdown",
      "id": "e24437ce-73bf-4bf3-8beb-1c273b58bb8e",
      "metadata": {
        "id": "e24437ce-73bf-4bf3-8beb-1c273b58bb8e"
      },
      "source": [
        "### Summary"
      ]
    },
    {
      "cell_type": "markdown",
      "id": "1a9abad3-1937-43e5-9629-682f65574e1a",
      "metadata": {
        "id": "1a9abad3-1937-43e5-9629-682f65574e1a"
      },
      "source": [
        "In this lesson, we learned about creating and scheduling our deployments.  We created a deployment by calling the `.serve` method on our deployment.\n",
        "\n",
        "```python\n",
        "if __name__ == \"__main__\":\n",
        "    get_restaurants.serve(name=\"get-restaurants-deployment\")\n",
        "```\n",
        "\n",
        "And from there, we added arguments to pass parameters to our flow, and to schedule the execution of our flow."
      ]
    },
    {
      "cell_type": "markdown",
      "id": "fe849971-8370-4bb4-bc66-9f06a508878c",
      "metadata": {
        "id": "fe849971-8370-4bb4-bc66-9f06a508878c"
      },
      "source": [
        "```python\n",
        "if __name__ == \"__main__\":\n",
        "    get_restaurants.serve(\n",
        "        name=\"get-restaurants-deployment\",\n",
        "        schedule=IntervalSchedule(interval=100),\n",
        "        parameters={'url': \"HONDURAS MAYA CAFE & BAR LLC\"}\n",
        "        )\n",
        "```"
      ]
    },
    {
      "cell_type": "markdown",
      "id": "5af389ae-9212-45eb-b6f6-2ec7d3835f76",
      "metadata": {
        "id": "5af389ae-9212-45eb-b6f6-2ec7d3835f76"
      },
      "source": [
        "Running the updated code will both create and schedule our deployments."
      ]
    }
  ],
  "metadata": {
    "kernelspec": {
      "display_name": "Python 3 (ipykernel)",
      "language": "python",
      "name": "python3"
    },
    "language_info": {
      "codemirror_mode": {
        "name": "ipython",
        "version": 3
      },
      "file_extension": ".py",
      "mimetype": "text/x-python",
      "name": "python",
      "nbconvert_exporter": "python",
      "pygments_lexer": "ipython3",
      "version": "3.9.12"
    },
    "colab": {
      "provenance": [],
      "include_colab_link": true
    }
  },
  "nbformat": 4,
  "nbformat_minor": 5
}